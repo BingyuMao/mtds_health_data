{
 "cells": [
  {
   "cell_type": "markdown",
   "metadata": {},
   "source": [
    "## Project 02 - Data wrangling and exploration using pandas\n",
    "Working with the data to replicate the Table 3 of the paper. In the table 3, we are interested 4 items.\n",
    "- HbA1C\n",
    "- Admission Source\n",
    "- Specialty\n",
    "- Primary Diagnosis\n",
    "\n",
    "Create 4 data frames for each of the items mentioned with the columns and rows match the table 3 corresponding to the item."
   ]
  },
  {
   "cell_type": "markdown",
   "metadata": {},
   "source": [
    "### Package import and data preprocess\n",
    "1. The preliminary dataset contained multiple inpatient visits for some patients and the observations could not be considered as statistically independent, an assumption of the logistic regression model. We thus used only one encounter per patient; in particular, we considered only the first encounter for each patient as the primary admission and determined whether or not they were readmitted within 30 days. \n",
    "2. Additionally, we removed all encounters that resulted in either discharge to a hospice or patient death, to avoid biasing our analysis. From \"IDs_mapping.csv\" find that for \"discharge_disposition_id\", if the code is 11, 13, 14, 19, 20 and 21 then this patient discharge to a hospice or death.\n",
    "\n",
    "After performing the above-described operations, we were left with 69973 encounters that constituted the final dataset for analysis."
   ]
  },
  {
   "cell_type": "code",
   "execution_count": 1,
   "metadata": {},
   "outputs": [],
   "source": [
    "import pandas as pd\n",
    "df = pd.read_csv('diabetic_data.csv')\n",
    "#df.info()"
   ]
  },
  {
   "cell_type": "code",
   "execution_count": 2,
   "metadata": {},
   "outputs": [
    {
     "name": "stdout",
     "output_type": "stream",
     "text": [
      "71518\n",
      "69973\n"
     ]
    }
   ],
   "source": [
    "#1.Filter only the first encounter for each patient\n",
    "pt = df.groupby('patient_nbr')['encounter_id'].first().reset_index()\n",
    "df_pt = df[df['encounter_id'].isin(pt['encounter_id'].drop_duplicates().tolist())]\n",
    "print(len(df_pt)) #length is 71518 now, means there are 71518 individual patients\n",
    "\n",
    "#2. Remove all encounters that resulted in discharge to a hospice \n",
    "data = df_pt[(df_pt['discharge_disposition_id'] != 11) & (df_pt['discharge_disposition_id'] != 13)\n",
    "           & (df_pt['discharge_disposition_id'] != 14) & (df_pt['discharge_disposition_id'] != 19)\n",
    "           & (df_pt['discharge_disposition_id'] != 20) & (df_pt['discharge_disposition_id'] != 21)]\n",
    "print(len(data)) #length is 69973 now."
   ]
  },
  {
   "cell_type": "markdown",
   "metadata": {},
   "source": [
    "Possible way to get 69984 patients:\n",
    "\n",
    "- Remove encounters that resulted in discharge to a hospice first and then filter the first encounter for each patient. This can cuase some patients with not only one encounters and died at end to be filtered in the first step but actually their first admission should be counted.\n",
    "- When removing hospice encounters, removed encounters with code 10 in \"discharge_disposition_id\" which contains 6 encounters, could be a mistake from the authors (I'm not sure with this one but this is the only way for me to get 69984).\n",
    "\n",
    "Meanwhile, as my population number is different with the paper, all of the numbers below are not the same when compare with the paper, but most of them are approach. This occurs because the way I used to get the population was different with the paper."
   ]
  },
  {
   "cell_type": "code",
   "execution_count": 3,
   "metadata": {
    "scrolled": false
   },
   "outputs": [
    {
     "data": {
      "text/plain": [
       "69984"
      ]
     },
     "execution_count": 3,
     "metadata": {},
     "output_type": "execute_result"
    }
   ],
   "source": [
    "df_f = df[(df['discharge_disposition_id'] != 11) & (df['discharge_disposition_id'] != 13)\n",
    "            & (df['discharge_disposition_id'] != 14) & (df['discharge_disposition_id'] != 19)\n",
    "            & (df['discharge_disposition_id'] != 20) & (df['discharge_disposition_id'] != 21)\n",
    "            & (df['discharge_disposition_id'] != 10)]\n",
    "pt_f = df_f.groupby('patient_nbr')['encounter_id'].first().reset_index()\n",
    "data_f = df_f[df_f['encounter_id'].isin(pt_f['encounter_id'].drop_duplicates().tolist())]\n",
    "len(data_f)"
   ]
  },
  {
   "cell_type": "markdown",
   "metadata": {},
   "source": [
    "### HbA1C\n",
    "#### Row index\n",
    "- Num_encounter （Number of encounters）: count of encounter_id\n",
    "- Percentage (% of the population): count of patient_nbr for (No test was performed, Result was high and the diabetic medication was changed, Result was high but the diabetic medication was not changed, Normal result of the test) / count of patient_nbr\n",
    "- Readm_num_encounter (Readmitted Number of encounters): count of \"<30\"and \">30\" values of readmitted encounter_id\n",
    "- Readm_percentage (Readmitted % in group): count of \"<30\"and \">30\" values of readmitted patient_nbr for (No test was performed, Result was high and the diabetic medication was changed, Result was high but the diabetic medication was not changed, Normal result of the test) / count of \"<30\"and \">30\" values of readmitted patient_nbr\n",
    "\n",
    "#### Column index\n",
    "- No_test (No test was performed): \"None\" value of A1Cresult\n",
    "- High_change (Result was high and the diabetic medication was changed): “>8” value of A1Cresult, “Ch” value of change\n",
    "- High_no_change (Result was high but the diabetic medication was not changed): “>8” value of A1Cresult, “No” value of change\n",
    "- Normal (Normal result of the test): “Norm” value of A1Cresult"
   ]
  },
  {
   "cell_type": "code",
   "execution_count": 4,
   "metadata": {},
   "outputs": [],
   "source": [
    "hb = data[['encounter_id','patient_nbr','A1Cresult','change','readmitted']]\n",
    "#hb"
   ]
  },
  {
   "cell_type": "code",
   "execution_count": 5,
   "metadata": {},
   "outputs": [
    {
     "data": {
      "text/plain": [
       "NO     41474\n",
       ">30    22222\n",
       "<30     6277\n",
       "Name: readmitted, dtype: int64"
      ]
     },
     "execution_count": 5,
     "metadata": {},
     "output_type": "execute_result"
    }
   ],
   "source": [
    "hb['readmitted'].value_counts()"
   ]
  },
  {
   "cell_type": "markdown",
   "metadata": {},
   "source": [
    "The result of readmitted patients with no test results in the paper is 5342, which is similar to 6277, so they may defined readmitted as readmitted only less than 30 days. Here I use this definition for readmitted patients."
   ]
  },
  {
   "cell_type": "code",
   "execution_count": 6,
   "metadata": {},
   "outputs": [
    {
     "name": "stderr",
     "output_type": "stream",
     "text": [
      "/Users/christy/opt/anaconda3/lib/python3.7/site-packages/ipykernel_launcher.py:13: UserWarning: Boolean Series key will be reindexed to match DataFrame index.\n",
      "  del sys.path[0]\n",
      "/Users/christy/opt/anaconda3/lib/python3.7/site-packages/ipykernel_launcher.py:21: UserWarning: Boolean Series key will be reindexed to match DataFrame index.\n"
     ]
    }
   ],
   "source": [
    "hba1c = pd.DataFrame(columns=['Num_encounter', 'Percentage', 'Readm_num_encounter','Readm_percentage'], \n",
    "                     index=['No_test', 'High_change', 'High_no_change','Normal'])\n",
    "\n",
    "#The first row of HbA1C table\n",
    "hb11 = hb[['encounter_id','readmitted']][hb['A1Cresult'] == 'None'].drop_duplicates() \n",
    "hb13 = hb11['encounter_id'][hb11['readmitted'] == '<30'].drop_duplicates()\n",
    "hba1c.iloc[0][0] = len(hb11)\n",
    "hba1c.iloc[0][1] = str(round(len(hb11) / len(hb),3) * 100) + '%'\n",
    "hba1c.iloc[0][2] = len(hb13)\n",
    "hba1c.iloc[0][3] = str(round(len(hb13) / len(hb11) * 100,1)) + '%'\n",
    "\n",
    "#The second row of HbA1C table\n",
    "hb21 = hb[['encounter_id','readmitted']][hb['A1Cresult'] == '>8'][hb['change'] == 'Ch'].drop_duplicates() \n",
    "hb23 = hb21['encounter_id'][hb21['readmitted'] == '<30'].drop_duplicates()\n",
    "hba1c.iloc[1][0] = len(hb21)\n",
    "hba1c.iloc[1][1] = str(round(len(hb21) / len(hb) * 100,2)) + '%'\n",
    "hba1c.iloc[1][2] = len(hb23)\n",
    "hba1c.iloc[1][3] = str(round(len(hb23) / len(hb21) * 100,1)) + '%'\n",
    "\n",
    "#The third row of HbA1C table\n",
    "hb31 = hb[['encounter_id','readmitted']][hb['A1Cresult'] == '>8'][hb['change'] == 'No'].drop_duplicates()\n",
    "hb33 = hb31['encounter_id'][hb31['readmitted'] == '<30'].drop_duplicates()\n",
    "hba1c.iloc[2][0] = len(hb31)\n",
    "hba1c.iloc[2][1] = str(round(len(hb31) / len(hb) * 100,1)) + '%'\n",
    "hba1c.iloc[2][2] = len(hb33)\n",
    "hba1c.iloc[2][3] = str(round(len(hb33) / len(hb31) * 100,1)) + '%'"
   ]
  },
  {
   "cell_type": "code",
   "execution_count": 7,
   "metadata": {},
   "outputs": [
    {
     "data": {
      "text/plain": [
       "None    57128\n",
       ">8       6239\n",
       "Norm     3741\n",
       ">7       2865\n",
       "Name: A1Cresult, dtype: int64"
      ]
     },
     "execution_count": 7,
     "metadata": {},
     "output_type": "execute_result"
    }
   ],
   "source": [
    "hb['A1Cresult'].value_counts()"
   ]
  },
  {
   "cell_type": "markdown",
   "metadata": {},
   "source": [
    "The result of normal result of the test in the paper is 6637, which is similar to 3741 + 2865 = 6606, so they may defined normal results as test results with normal and >7 results. Here I use 6606."
   ]
  },
  {
   "cell_type": "code",
   "execution_count": 8,
   "metadata": {},
   "outputs": [],
   "source": [
    "#The last row of HbA1C table\n",
    "hb41 = hb[['encounter_id','readmitted']][(hb['A1Cresult'] == 'Norm') | (hb['A1Cresult'] == '>7')].drop_duplicates()\n",
    "hb43 = hb41['encounter_id'][hb41['readmitted'] == '<30'].drop_duplicates()\n",
    "hba1c.iloc[3][0] = len(hb41)\n",
    "hba1c.iloc[3][1] = str(round(len(hb41) / len(hb) * 100,1)) + '%'\n",
    "hba1c.iloc[3][2] = len(hb43)\n",
    "hba1c.iloc[3][3] = str(round(len(hb43) / len(hb41) * 100,1)) + '%'"
   ]
  },
  {
   "cell_type": "markdown",
   "metadata": {},
   "source": [
    "#### Result -- HbA1C Table"
   ]
  },
  {
   "cell_type": "code",
   "execution_count": 9,
   "metadata": {},
   "outputs": [
    {
     "data": {
      "text/html": [
       "<div>\n",
       "<style scoped>\n",
       "    .dataframe tbody tr th:only-of-type {\n",
       "        vertical-align: middle;\n",
       "    }\n",
       "\n",
       "    .dataframe tbody tr th {\n",
       "        vertical-align: top;\n",
       "    }\n",
       "\n",
       "    .dataframe thead th {\n",
       "        text-align: right;\n",
       "    }\n",
       "</style>\n",
       "<table border=\"1\" class=\"dataframe\">\n",
       "  <thead>\n",
       "    <tr style=\"text-align: right;\">\n",
       "      <th></th>\n",
       "      <th>Num_encounter</th>\n",
       "      <th>Percentage</th>\n",
       "      <th>Readm_num_encounter</th>\n",
       "      <th>Readm_percentage</th>\n",
       "    </tr>\n",
       "  </thead>\n",
       "  <tbody>\n",
       "    <tr>\n",
       "      <th>No_test</th>\n",
       "      <td>57128</td>\n",
       "      <td>81.6%</td>\n",
       "      <td>5199</td>\n",
       "      <td>9.1%</td>\n",
       "    </tr>\n",
       "    <tr>\n",
       "      <th>High_change</th>\n",
       "      <td>4058</td>\n",
       "      <td>5.8%</td>\n",
       "      <td>348</td>\n",
       "      <td>8.6%</td>\n",
       "    </tr>\n",
       "    <tr>\n",
       "      <th>High_no_change</th>\n",
       "      <td>2181</td>\n",
       "      <td>3.1%</td>\n",
       "      <td>161</td>\n",
       "      <td>7.4%</td>\n",
       "    </tr>\n",
       "    <tr>\n",
       "      <th>Normal</th>\n",
       "      <td>6606</td>\n",
       "      <td>9.4%</td>\n",
       "      <td>569</td>\n",
       "      <td>8.6%</td>\n",
       "    </tr>\n",
       "  </tbody>\n",
       "</table>\n",
       "</div>"
      ],
      "text/plain": [
       "               Num_encounter Percentage Readm_num_encounter Readm_percentage\n",
       "No_test                57128      81.6%                5199             9.1%\n",
       "High_change             4058       5.8%                 348             8.6%\n",
       "High_no_change          2181       3.1%                 161             7.4%\n",
       "Normal                  6606       9.4%                 569             8.6%"
      ]
     },
     "execution_count": 9,
     "metadata": {},
     "output_type": "execute_result"
    }
   ],
   "source": [
    "hba1c"
   ]
  },
  {
   "cell_type": "markdown",
   "metadata": {},
   "source": [
    "### Admission source\n",
    "#### Row index\n",
    "- Num_encounter （Number of encounters）: count of encounter_id\n",
    "- Percentage (% of the population): count of patient_nbr for (No test was performed, Result was high and the diabetic medication was changed, Result was high but the diabetic medication was not changed, Normal result of the test) / count of patient_nbr\n",
    "- Readm_num_encounter (Readmitted Number of encounters): count of \"<30\"and \">30\" values of readmitted encounter_id\n",
    "- Readm_percentage (Readmitted % in group): count of \"<30\"and \">30\" values of readmitted patient_nbr for (No test was performed, Result was high and the diabetic medication was changed, Result was high but the diabetic medication was not changed, Normal result of the test) / count of \"<30\"and \">30\" values of readmitted patient_nbr\n",
    "\n",
    "#### Column index\n",
    "- Emer (Admitted from emergency room): with code 7 in admission_source_id\n",
    "- Ref (Admitted because of physician/clinic referral): with code 1, 2 in admission_source_id\n",
    "- Other (Otherwise): with code not equal to 1, 2 and 7 in admission_source_id"
   ]
  },
  {
   "cell_type": "code",
   "execution_count": 10,
   "metadata": {},
   "outputs": [],
   "source": [
    "ads = data[['encounter_id','patient_nbr','admission_source_id','change','readmitted']]\n",
    "#ads"
   ]
  },
  {
   "cell_type": "code",
   "execution_count": 11,
   "metadata": {},
   "outputs": [],
   "source": [
    "#ads['admission_source_id'].value_counts()"
   ]
  },
  {
   "cell_type": "code",
   "execution_count": 12,
   "metadata": {},
   "outputs": [],
   "source": [
    "adm_s = pd.DataFrame(columns=['Num_encounter', 'Percentage', 'Readm_num_encounter','Readm_percentage'], \n",
    "                     index=['Emer', 'Ref', 'Other'])\n",
    "\n",
    "ads11 = ads[['encounter_id','readmitted']][ads['admission_source_id'] == 7].drop_duplicates()\n",
    "ads13 = ads11['encounter_id'][ads11['readmitted'] == '<30'].drop_duplicates()\n",
    "adm_s.iloc[0][0] = len(ads11)\n",
    "adm_s.iloc[0][1] = str(round(len(ads11) / len(ads),3) * 100) + '%'\n",
    "adm_s.iloc[0][2] = len(ads13)\n",
    "adm_s.iloc[0][3] = str(round(len(ads13) / len(ads11) * 100,1)) + '%'\n",
    "\n",
    "ads21 = ads[['encounter_id','readmitted']][(ads['admission_source_id'] == 1) | (ads['admission_source_id'] == 2)].drop_duplicates()\n",
    "ads23 = ads21['encounter_id'][ads21['readmitted'] == '<30'].drop_duplicates()\n",
    "adm_s.iloc[1][0] = len(ads21)\n",
    "adm_s.iloc[1][1] = str(round(len(ads21) / len(ads),3) * 100) + '%'\n",
    "adm_s.iloc[1][2] = len(ads23)\n",
    "adm_s.iloc[1][3] = str(round(len(ads23) / len(ads21) * 100,1)) + '%'\n",
    "\n",
    "ads31 = ads[['encounter_id','readmitted']][(ads['admission_source_id'] != 1) \n",
    "                                           & (ads['admission_source_id'] != 2) & (ads['admission_source_id'] != 7)].drop_duplicates()\n",
    "ads33 = ads31['encounter_id'][ads31['readmitted'] == '<30'].drop_duplicates()\n",
    "adm_s.iloc[2][0] = len(ads31)\n",
    "adm_s.iloc[2][1] = str(round(len(ads31) / len(ads) * 100,1)) + '%'\n",
    "adm_s.iloc[2][2] = len(ads33)\n",
    "adm_s.iloc[2][3] = str(round(len(ads33) / len(ads31) * 100,1)) + '%'"
   ]
  },
  {
   "cell_type": "markdown",
   "metadata": {},
   "source": [
    "#### Result -- Admission Source Table"
   ]
  },
  {
   "cell_type": "code",
   "execution_count": 13,
   "metadata": {},
   "outputs": [
    {
     "data": {
      "text/html": [
       "<div>\n",
       "<style scoped>\n",
       "    .dataframe tbody tr th:only-of-type {\n",
       "        vertical-align: middle;\n",
       "    }\n",
       "\n",
       "    .dataframe tbody tr th {\n",
       "        vertical-align: top;\n",
       "    }\n",
       "\n",
       "    .dataframe thead th {\n",
       "        text-align: right;\n",
       "    }\n",
       "</style>\n",
       "<table border=\"1\" class=\"dataframe\">\n",
       "  <thead>\n",
       "    <tr style=\"text-align: right;\">\n",
       "      <th></th>\n",
       "      <th>Num_encounter</th>\n",
       "      <th>Percentage</th>\n",
       "      <th>Readm_num_encounter</th>\n",
       "      <th>Readm_percentage</th>\n",
       "    </tr>\n",
       "  </thead>\n",
       "  <tbody>\n",
       "    <tr>\n",
       "      <th>Emer</th>\n",
       "      <td>37260</td>\n",
       "      <td>53.2%</td>\n",
       "      <td>3446</td>\n",
       "      <td>9.2%</td>\n",
       "    </tr>\n",
       "    <tr>\n",
       "      <th>Ref</th>\n",
       "      <td>22654</td>\n",
       "      <td>32.4%</td>\n",
       "      <td>1952</td>\n",
       "      <td>8.6%</td>\n",
       "    </tr>\n",
       "    <tr>\n",
       "      <th>Other</th>\n",
       "      <td>10059</td>\n",
       "      <td>14.4%</td>\n",
       "      <td>879</td>\n",
       "      <td>8.7%</td>\n",
       "    </tr>\n",
       "  </tbody>\n",
       "</table>\n",
       "</div>"
      ],
      "text/plain": [
       "      Num_encounter Percentage Readm_num_encounter Readm_percentage\n",
       "Emer          37260      53.2%                3446             9.2%\n",
       "Ref           22654      32.4%                1952             8.6%\n",
       "Other         10059      14.4%                 879             8.7%"
      ]
     },
     "execution_count": 13,
     "metadata": {},
     "output_type": "execute_result"
    }
   ],
   "source": [
    "adm_s"
   ]
  },
  {
   "cell_type": "markdown",
   "metadata": {},
   "source": [
    "### Specialty\n",
    "#### Row index\n",
    "- Num_encounter （Number of encounters）: count of encounter_id\n",
    "- Percentage (% of the population): count of patient_nbr for (No test was performed, Result was high and the diabetic medication was changed, Result was high but the diabetic medication was not changed, Normal result of the test) / count of patient_nbr\n",
    "- Readm_num_encounter (Readmitted Number of encounters): count of \"<30\"and \">30\" values of readmitted encounter_id\n",
    "- Readm_percentage (Readmitted % in group): count of \"<30\"and \">30\" values of readmitted patient_nbr for (No test was performed, Result was high and the diabetic medication was changed, Result was high but the diabetic medication was not changed, Normal result of the test) / count of \"<30\"and \">30\" values of readmitted patient_nbr\n",
    "\n",
    "#### Column index\n",
    "- In_med (Internal Medicine): \"InternalMedicine\" value of medical_specialty\n",
    "- Card (Cardiology): “Cardiology” value of medical_specialty\n",
    "- Surg (Surgery): all the values with \"Surgery\" in medical_specialty\n",
    "- Fam_prac (Family/general practice): “Family/GeneralPractice” value of medical_specialty\n",
    "- Missing (Missing or unknown):\"?\" value of medical_specialty\n",
    "- Other (Other): Other values in medical_specialty"
   ]
  },
  {
   "cell_type": "code",
   "execution_count": 14,
   "metadata": {},
   "outputs": [],
   "source": [
    "sp = data[['encounter_id','patient_nbr','medical_specialty','change','readmitted']]\n",
    "#sp"
   ]
  },
  {
   "cell_type": "code",
   "execution_count": 15,
   "metadata": {},
   "outputs": [],
   "source": [
    "#sp['medical_specialty'].value_counts()"
   ]
  },
  {
   "cell_type": "code",
   "execution_count": 16,
   "metadata": {},
   "outputs": [],
   "source": [
    "spec = pd.DataFrame(columns=['Num_encounter', 'Percentage', 'Readm_num_encounter','Readm_percentage'], \n",
    "                     index=['In_med', 'Card', 'Surg', 'Fam_prac', 'Missing', 'Other'])\n",
    "\n",
    "sp11 = sp[['encounter_id','readmitted']][sp['medical_specialty'] == 'InternalMedicine'].drop_duplicates()\n",
    "sp13 = sp11['encounter_id'][sp11['readmitted'] == '<30'].drop_duplicates()\n",
    "spec.iloc[0][0] = len(sp11)\n",
    "spec.iloc[0][1] = str(round(len(sp11) / len(sp) * 100, 1)) + '%'\n",
    "spec.iloc[0][2] = len(sp13)\n",
    "spec.iloc[0][3] = str(round(len(sp13) / len(sp11) * 100,1)) + '%'\n",
    "\n",
    "sp21 = sp[['encounter_id','readmitted']][sp['medical_specialty'] == 'Cardiology'].drop_duplicates()\n",
    "sp23 = sp21['encounter_id'][sp21['readmitted'] == '<30'].drop_duplicates()\n",
    "spec.iloc[1][0] = len(sp21)\n",
    "spec.iloc[1][1] = str(round(len(sp21) / len(sp) * 100, 1)) + '%'\n",
    "spec.iloc[1][2] = len(sp23)\n",
    "spec.iloc[1][3] = str(round(len(sp23) / len(sp21) * 100,1)) + '%'\n",
    "\n",
    "#There are many values start with \"Surgery\" but with different types of surgery\n",
    "sp31 = sp[['encounter_id','readmitted']][sp['medical_specialty'].str.startswith('Surgery')].drop_duplicates()\n",
    "sp33 = sp31['encounter_id'][sp31['readmitted'] == '<30'].drop_duplicates()\n",
    "spec.iloc[2][0] = len(sp31)\n",
    "spec.iloc[2][1] = str(round(len(sp31) / len(sp) * 100, 1)) + '%'\n",
    "spec.iloc[2][2] = len(sp33)\n",
    "spec.iloc[2][3] = str(round(len(sp33) / len(sp31) * 100,1)) + '%'\n",
    "\n",
    "sp41 = sp[['encounter_id','readmitted']][sp['medical_specialty'] == 'Family/GeneralPractice'].drop_duplicates()\n",
    "sp43 = sp41['encounter_id'][sp41['readmitted'] == '<30'].drop_duplicates()\n",
    "spec.iloc[3][0] = len(sp41)\n",
    "spec.iloc[3][1] = str(round(len(sp41) / len(sp) * 100, 1)) + '%'\n",
    "spec.iloc[3][2] = len(sp43)\n",
    "spec.iloc[3][3] = str(round(len(sp43) / len(sp41) * 100,1)) + '%'\n",
    "\n",
    "sp51 = sp[['encounter_id','readmitted']][sp['medical_specialty'] == '?'].drop_duplicates()\n",
    "sp53 = sp51['encounter_id'][sp51['readmitted'] == '<30'].drop_duplicates()\n",
    "spec.iloc[4][0] = len(sp51)\n",
    "spec.iloc[4][1] = str(round(len(sp51) / len(sp) * 100, 1)) + '%'\n",
    "spec.iloc[4][2] = len(sp53)\n",
    "spec.iloc[4][3] = str(round(len(sp53) / len(sp51) * 100,1)) + '%'\n",
    "\n",
    "#Concatenate all the filters above to get others\n",
    "sp_c = pd.concat([sp11, sp21, sp31, sp41, sp51]).dropna()\n",
    "sp61 = sp[['encounter_id','readmitted']][~(sp['encounter_id'].isin(sp_c['encounter_id'].drop_duplicates().tolist()))]\n",
    "sp63 = sp61['encounter_id'][sp61['readmitted'] == '<30'].drop_duplicates()\n",
    "spec.iloc[5][0] = len(sp61)\n",
    "spec.iloc[5][1] = str(round(len(sp61) / len(sp) * 100, 1)) + '%'\n",
    "spec.iloc[5][2] = len(sp63)\n",
    "spec.iloc[5][3] = str(round(len(sp63) / len(sp61) * 100,1)) + '%'"
   ]
  },
  {
   "cell_type": "markdown",
   "metadata": {},
   "source": [
    "#### Result -- Specialty Table"
   ]
  },
  {
   "cell_type": "code",
   "execution_count": 17,
   "metadata": {},
   "outputs": [
    {
     "data": {
      "text/html": [
       "<div>\n",
       "<style scoped>\n",
       "    .dataframe tbody tr th:only-of-type {\n",
       "        vertical-align: middle;\n",
       "    }\n",
       "\n",
       "    .dataframe tbody tr th {\n",
       "        vertical-align: top;\n",
       "    }\n",
       "\n",
       "    .dataframe thead th {\n",
       "        text-align: right;\n",
       "    }\n",
       "</style>\n",
       "<table border=\"1\" class=\"dataframe\">\n",
       "  <thead>\n",
       "    <tr style=\"text-align: right;\">\n",
       "      <th></th>\n",
       "      <th>Num_encounter</th>\n",
       "      <th>Percentage</th>\n",
       "      <th>Readm_num_encounter</th>\n",
       "      <th>Readm_percentage</th>\n",
       "    </tr>\n",
       "  </thead>\n",
       "  <tbody>\n",
       "    <tr>\n",
       "      <th>In_med</th>\n",
       "      <td>10641</td>\n",
       "      <td>15.2%</td>\n",
       "      <td>1039</td>\n",
       "      <td>9.8%</td>\n",
       "    </tr>\n",
       "    <tr>\n",
       "      <th>Card</th>\n",
       "      <td>4207</td>\n",
       "      <td>6.0%</td>\n",
       "      <td>302</td>\n",
       "      <td>7.2%</td>\n",
       "    </tr>\n",
       "    <tr>\n",
       "      <th>Surg</th>\n",
       "      <td>3685</td>\n",
       "      <td>5.3%</td>\n",
       "      <td>293</td>\n",
       "      <td>8.0%</td>\n",
       "    </tr>\n",
       "    <tr>\n",
       "      <th>Fam_prac</th>\n",
       "      <td>4978</td>\n",
       "      <td>7.1%</td>\n",
       "      <td>485</td>\n",
       "      <td>9.7%</td>\n",
       "    </tr>\n",
       "    <tr>\n",
       "      <th>Missing</th>\n",
       "      <td>33639</td>\n",
       "      <td>48.1%</td>\n",
       "      <td>3104</td>\n",
       "      <td>9.2%</td>\n",
       "    </tr>\n",
       "    <tr>\n",
       "      <th>Other</th>\n",
       "      <td>12823</td>\n",
       "      <td>18.3%</td>\n",
       "      <td>1054</td>\n",
       "      <td>8.2%</td>\n",
       "    </tr>\n",
       "  </tbody>\n",
       "</table>\n",
       "</div>"
      ],
      "text/plain": [
       "         Num_encounter Percentage Readm_num_encounter Readm_percentage\n",
       "In_med           10641      15.2%                1039             9.8%\n",
       "Card              4207       6.0%                 302             7.2%\n",
       "Surg              3685       5.3%                 293             8.0%\n",
       "Fam_prac          4978       7.1%                 485             9.7%\n",
       "Missing          33639      48.1%                3104             9.2%\n",
       "Other            12823      18.3%                1054             8.2%"
      ]
     },
     "execution_count": 17,
     "metadata": {},
     "output_type": "execute_result"
    }
   ],
   "source": [
    "spec"
   ]
  },
  {
   "cell_type": "markdown",
   "metadata": {},
   "source": [
    "### Primary Diagnosis\n",
    "#### Row index\n",
    "- Num_encounter （Number of encounters）: count of encounter_id\n",
    "- Percentage (% of the population): count of patient_nbr for (No test was performed, Result was high and the diabetic medication was changed, Result was high but the diabetic medication was not changed, Normal result of the test) / count of patient_nbr\n",
    "- Readm_num_encounter (Readmitted Number of encounters): count of \"<30\"and \">30\" values of readmitted encounter_id\n",
    "- Readm_percentage (Readmitted % in group): count of \"<30\"and \">30\" values of readmitted patient_nbr for (No test was performed, Result was high and the diabetic medication was changed, Result was high but the diabetic medication was not changed, Normal result of the test) / count of \"<30\"and \">30\" values of readmitted patient_nbr\n",
    "\n",
    "#### Column index\n",
    "- Circ_sys (A disease of the circulatory system (icd9: 390–459, 785)): with value 390-459 and 785 of diag_1\n",
    "- Diabetes (Diabetes (icd9: 250.xx)): with value 250.xx of diag_1\n",
    "- Resp_sys (A disease of the respiratory system (icd9: 460–519, 786)): with value 460–519 and 786 of diag_1\n",
    "- Dige_sys (Diseases of the digestive system (icd9: 520–579, 787)): with value 520–579 and 787 of diag_1\n",
    "- Inj_pois (Injury and poisoning (icd9: 800–999)): with value 800–999 of diag_1\n",
    "- Musc_sys (Diseases of the musculoskeletal system and connective tissue (icd9: 710–739)): with value 710–739 of diag_1\n",
    "- Geni_sys (Diseases of the genitourinary system (icd9: 580–629, 788)): with value 580–629 and 788 of diag_1\n",
    "- Neoplasms (Neoplasms (icd9: 140–239)): with value 140–239 of diag_1\n",
    "- Other (other): all other values of diag_1"
   ]
  },
  {
   "cell_type": "code",
   "execution_count": 18,
   "metadata": {},
   "outputs": [],
   "source": [
    "pr = data[['encounter_id','patient_nbr','diag_1','change','readmitted']]\n",
    "#pr"
   ]
  },
  {
   "cell_type": "code",
   "execution_count": 19,
   "metadata": {},
   "outputs": [
    {
     "name": "stderr",
     "output_type": "stream",
     "text": [
      "/Users/christy/opt/anaconda3/lib/python3.7/site-packages/ipykernel_launcher.py:7: SettingWithCopyWarning: \n",
      "A value is trying to be set on a copy of a slice from a DataFrame.\n",
      "Try using .loc[row_indexer,col_indexer] = value instead\n",
      "\n",
      "See the caveats in the documentation: https://pandas.pydata.org/pandas-docs/stable/user_guide/indexing.html#returning-a-view-versus-a-copy\n",
      "  import sys\n"
     ]
    }
   ],
   "source": [
    "#Prepare for filter in the next step\n",
    "pr_le = pr[(pr['diag_1'].str.startswith('V')) | (pr['diag_1'].str.startswith('E'))] #Values start with a letter\n",
    "pr_na = pr[pr['diag_1'] == '?'] \n",
    "pr_fl = pr[pr['diag_1'].str.contains('\\.')] #Values contain \".\"\n",
    "pr1 = pd.concat([pr_le, pr_na, pr_fl]).dropna()\n",
    "prim = pr[~(pr['encounter_id'].isin(pr1['encounter_id'].drop_duplicates().tolist()))]\n",
    "prim['diag_1'] = prim['diag_1'].astype(int)"
   ]
  },
  {
   "cell_type": "code",
   "execution_count": 20,
   "metadata": {},
   "outputs": [],
   "source": [
    "diag = pd.DataFrame(columns=['Num_encounter', 'Percentage', 'Readm_num_encounter','Readm_percentage'], \n",
    "                     index=['Circ_sys', 'Diabetes', 'Resp_sys', 'Dige_sys', 'Inj_pois', 'Musc_sys', 'Geni_sys', 'Neoplasms', 'Other'])\n",
    "\n",
    "pr11 = prim[['encounter_id','readmitted']][((prim['diag_1'] >= 390) & (prim['diag_1'] <= 459)) \n",
    "                                           | (prim['diag_1'] == 785)].drop_duplicates()\n",
    "pr13 = pr11['encounter_id'][pr11['readmitted'] == '<30'].drop_duplicates()\n",
    "diag.iloc[0][0] = len(pr11)\n",
    "diag.iloc[0][1] = str(round(len(pr11) / len(pr) * 100, 1)) + '%'\n",
    "diag.iloc[0][2] = len(pr13)\n",
    "diag.iloc[0][3] = str(round(len(pr13) / len(pr11) * 100,1)) + '%'\n",
    "\n",
    "pr21 = pr[['encounter_id','readmitted']][pr['diag_1'].str.startswith('250')].drop_duplicates()\n",
    "pr23 = pr21['encounter_id'][pr21['readmitted'] == '<30'].drop_duplicates()\n",
    "diag.iloc[1][0] = len(pr21)\n",
    "diag.iloc[1][1] = str(round(len(pr21) / len(pr) * 100, 1)) + '%'\n",
    "diag.iloc[1][2] = len(pr23)\n",
    "diag.iloc[1][3] = str(round(len(pr23) / len(pr21) * 100,1)) + '%'\n",
    "\n",
    "pr31 = prim[['encounter_id','readmitted']][((prim['diag_1'] >= 460) & (prim['diag_1'] <= 519)) \n",
    "                                           | (prim['diag_1'] == 786)].drop_duplicates()\n",
    "pr33 = pr31['encounter_id'][pr31['readmitted'] == '<30'].drop_duplicates()\n",
    "diag.iloc[2][0] = len(pr31)\n",
    "diag.iloc[2][1] = str(round(len(pr31) / len(pr) * 100, 1)) + '%'\n",
    "diag.iloc[2][2] = len(pr33)\n",
    "diag.iloc[2][3] = str(round(len(pr33) / len(pr31) * 100,1)) + '%'\n",
    "\n",
    "pr41 = prim[['encounter_id','readmitted']][((prim['diag_1'] >= 520) & (prim['diag_1'] <= 579)) \n",
    "                                           | (prim['diag_1'] == 787)].drop_duplicates()\n",
    "pr43 = pr41['encounter_id'][pr41['readmitted'] == '<30'].drop_duplicates()\n",
    "diag.iloc[3][0] = len(pr41)\n",
    "diag.iloc[3][1] = str(round(len(pr41) / len(pr) * 100, 1)) + '%'\n",
    "diag.iloc[3][2] = len(pr43)\n",
    "diag.iloc[3][3] = str(round(len(pr43) / len(pr41) * 100,1)) + '%'\n",
    "\n",
    "pr51 = prim[['encounter_id','readmitted']][((prim['diag_1'] >= 800) & (prim['diag_1'] <= 999))].drop_duplicates()\n",
    "pr53 = pr51['encounter_id'][pr51['readmitted'] == '<30'].drop_duplicates()\n",
    "diag.iloc[4][0] = len(pr51)\n",
    "diag.iloc[4][1] = str(round(len(pr51) / len(pr) * 100, 1)) + '%'\n",
    "diag.iloc[4][2] = len(pr53)\n",
    "diag.iloc[4][3] = str(round(len(pr53) / len(pr51) * 100,1)) + '%'\n",
    "\n",
    "pr61 = prim[['encounter_id','readmitted']][((prim['diag_1'] >= 710) & (prim['diag_1'] <= 739))].drop_duplicates()\n",
    "pr63 = pr61['encounter_id'][pr61['readmitted'] == '<30'].drop_duplicates()\n",
    "diag.iloc[5][0] = len(pr61)\n",
    "diag.iloc[5][1] = str(round(len(pr61) / len(pr) * 100, 1)) + '%'\n",
    "diag.iloc[5][2] = len(pr63)\n",
    "diag.iloc[5][3] = str(round(len(pr63) / len(pr61) * 100,1)) + '%'\n",
    "\n",
    "pr71 = prim[['encounter_id','readmitted']][((prim['diag_1'] >= 580) & (prim['diag_1'] <= 629)) \n",
    "                                           | (prim['diag_1'] == 788)].drop_duplicates()\n",
    "pr73 = pr71['encounter_id'][pr71['readmitted'] == '<30'].drop_duplicates()\n",
    "diag.iloc[6][0] = len(pr71)\n",
    "diag.iloc[6][1] = str(round(len(pr71) / len(pr) * 100, 1)) + '%'\n",
    "diag.iloc[6][2] = len(pr73)\n",
    "diag.iloc[6][3] = str(round(len(pr73) / len(pr71) * 100,1)) + '%'\n",
    "\n",
    "pr81 = prim[['encounter_id','readmitted']][((prim['diag_1'] >= 140) & (prim['diag_1'] <= 239))].drop_duplicates()\n",
    "pr83 = pr81['encounter_id'][pr81['readmitted'] == '<30'].drop_duplicates()\n",
    "diag.iloc[7][0] = len(pr81)\n",
    "diag.iloc[7][1] = str(round(len(pr81) / len(pr) * 100, 1)) + '%'\n",
    "diag.iloc[7][2] = len(pr83)\n",
    "diag.iloc[7][3] = str(round(len(pr83) / len(pr81) * 100,1)) + '%'\n",
    "\n",
    "pr_c = pd.concat([pr11, pr21, pr31, pr41, pr51, pr61, pr71, pr81]).dropna()\n",
    "pr91 = pr[['encounter_id','readmitted']][~(pr['encounter_id'].isin(pr_c['encounter_id'].drop_duplicates().tolist()))]\n",
    "pr93 = pr91['encounter_id'][pr91['readmitted'] == '<30'].drop_duplicates()\n",
    "diag.iloc[8][0] = len(pr91)\n",
    "diag.iloc[8][1] = str(round(len(pr91) / len(pr) * 100, 1)) + '%'\n",
    "diag.iloc[8][2] = len(pr93)\n",
    "diag.iloc[8][3] = str(round(len(pr93) / len(pr91) * 100,1)) + '%'"
   ]
  },
  {
   "cell_type": "markdown",
   "metadata": {},
   "source": [
    "#### Result -- Primary Diagnosis Table"
   ]
  },
  {
   "cell_type": "code",
   "execution_count": 21,
   "metadata": {},
   "outputs": [
    {
     "data": {
      "text/html": [
       "<div>\n",
       "<style scoped>\n",
       "    .dataframe tbody tr th:only-of-type {\n",
       "        vertical-align: middle;\n",
       "    }\n",
       "\n",
       "    .dataframe tbody tr th {\n",
       "        vertical-align: top;\n",
       "    }\n",
       "\n",
       "    .dataframe thead th {\n",
       "        text-align: right;\n",
       "    }\n",
       "</style>\n",
       "<table border=\"1\" class=\"dataframe\">\n",
       "  <thead>\n",
       "    <tr style=\"text-align: right;\">\n",
       "      <th></th>\n",
       "      <th>Num_encounter</th>\n",
       "      <th>Percentage</th>\n",
       "      <th>Readm_num_encounter</th>\n",
       "      <th>Readm_percentage</th>\n",
       "    </tr>\n",
       "  </thead>\n",
       "  <tbody>\n",
       "    <tr>\n",
       "      <th>Circ_sys</th>\n",
       "      <td>21384</td>\n",
       "      <td>30.6%</td>\n",
       "      <td>2067</td>\n",
       "      <td>9.7%</td>\n",
       "    </tr>\n",
       "    <tr>\n",
       "      <th>Diabetes</th>\n",
       "      <td>5748</td>\n",
       "      <td>8.2%</td>\n",
       "      <td>524</td>\n",
       "      <td>9.1%</td>\n",
       "    </tr>\n",
       "    <tr>\n",
       "      <th>Resp_sys</th>\n",
       "      <td>9486</td>\n",
       "      <td>13.6%</td>\n",
       "      <td>691</td>\n",
       "      <td>7.3%</td>\n",
       "    </tr>\n",
       "    <tr>\n",
       "      <th>Dige_sys</th>\n",
       "      <td>6487</td>\n",
       "      <td>9.3%</td>\n",
       "      <td>520</td>\n",
       "      <td>8.0%</td>\n",
       "    </tr>\n",
       "    <tr>\n",
       "      <th>Inj_pois</th>\n",
       "      <td>4694</td>\n",
       "      <td>6.7%</td>\n",
       "      <td>506</td>\n",
       "      <td>10.8%</td>\n",
       "    </tr>\n",
       "    <tr>\n",
       "      <th>Musc_sys</th>\n",
       "      <td>4064</td>\n",
       "      <td>5.8%</td>\n",
       "      <td>341</td>\n",
       "      <td>8.4%</td>\n",
       "    </tr>\n",
       "    <tr>\n",
       "      <th>Geni_sys</th>\n",
       "      <td>3440</td>\n",
       "      <td>4.9%</td>\n",
       "      <td>309</td>\n",
       "      <td>9.0%</td>\n",
       "    </tr>\n",
       "    <tr>\n",
       "      <th>Neoplasms</th>\n",
       "      <td>2538</td>\n",
       "      <td>3.6%</td>\n",
       "      <td>230</td>\n",
       "      <td>9.1%</td>\n",
       "    </tr>\n",
       "    <tr>\n",
       "      <th>Other</th>\n",
       "      <td>12132</td>\n",
       "      <td>17.3%</td>\n",
       "      <td>1089</td>\n",
       "      <td>9.0%</td>\n",
       "    </tr>\n",
       "  </tbody>\n",
       "</table>\n",
       "</div>"
      ],
      "text/plain": [
       "          Num_encounter Percentage Readm_num_encounter Readm_percentage\n",
       "Circ_sys          21384      30.6%                2067             9.7%\n",
       "Diabetes           5748       8.2%                 524             9.1%\n",
       "Resp_sys           9486      13.6%                 691             7.3%\n",
       "Dige_sys           6487       9.3%                 520             8.0%\n",
       "Inj_pois           4694       6.7%                 506            10.8%\n",
       "Musc_sys           4064       5.8%                 341             8.4%\n",
       "Geni_sys           3440       4.9%                 309             9.0%\n",
       "Neoplasms          2538       3.6%                 230             9.1%\n",
       "Other             12132      17.3%                1089             9.0%"
      ]
     },
     "execution_count": 21,
     "metadata": {},
     "output_type": "execute_result"
    }
   ],
   "source": [
    "diag"
   ]
  },
  {
   "cell_type": "code",
   "execution_count": null,
   "metadata": {},
   "outputs": [],
   "source": []
  }
 ],
 "metadata": {
  "kernelspec": {
   "display_name": "Python 3.7.6 64-bit ('base': conda)",
   "language": "python",
   "name": "python37664bitbaseconda67bbc7fd08164ac696b06cd0e59a676a"
  },
  "language_info": {
   "codemirror_mode": {
    "name": "ipython",
    "version": 3
   },
   "file_extension": ".py",
   "mimetype": "text/x-python",
   "name": "python",
   "nbconvert_exporter": "python",
   "pygments_lexer": "ipython3",
   "version": "3.7.6"
  },
  "toc": {
   "base_numbering": 1,
   "nav_menu": {},
   "number_sections": true,
   "sideBar": true,
   "skip_h1_title": false,
   "title_cell": "Table of Contents",
   "title_sidebar": "Contents",
   "toc_cell": false,
   "toc_position": {},
   "toc_section_display": true,
   "toc_window_display": false
  }
 },
 "nbformat": 4,
 "nbformat_minor": 4
}
